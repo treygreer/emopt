{
 "cells": [
  {
   "cell_type": "code",
   "execution_count": 1,
   "metadata": {},
   "outputs": [
    {
     "name": "stdout",
     "output_type": "stream",
     "text": [
      "Using matplotlib backend: Qt5Agg\n"
     ]
    }
   ],
   "source": [
    "import matplotlib\n",
    "import matplotlib.pyplot as plt\n",
    "import numpy as np\n",
    "import h5py\n",
    "from ipywidgets import interact, interactive, fixed, interact_manual\n",
    "import ipywidgets as widgets\n",
    "%matplotlib\n",
    "#%matplotlib qt"
   ]
  },
  {
   "cell_type": "code",
   "execution_count": 10,
   "metadata": {},
   "outputs": [
    {
     "name": "stdout",
     "output_type": "stream",
     "text": [
      "/scratch/tgreer/edge_coupler/data\n",
      "coupler001.h5  coupler008.h5  coupler015.h5  coupler022.h5  coupler029.h5\r\n",
      "coupler002.h5  coupler009.h5  coupler016.h5  coupler023.h5  coupler030.h5\r\n",
      "coupler003.h5  coupler010.h5  coupler017.h5  coupler024.h5  coupler031.h5\r\n",
      "coupler004.h5  coupler011.h5  coupler018.h5  coupler025.h5\r\n",
      "coupler005.h5  coupler012.h5  coupler019.h5  coupler026.h5\r\n",
      "coupler006.h5  coupler013.h5  coupler020.h5  coupler027.h5\r\n",
      "coupler007.h5  coupler014.h5  coupler021.h5  coupler028.h5\r\n"
     ]
    }
   ],
   "source": [
    "%cd '/scratch/tgreer/edge_coupler/data'\n",
    "%ls"
   ]
  },
  {
   "cell_type": "code",
   "execution_count": 11,
   "metadata": {},
   "outputs": [],
   "source": [
    "class Sim:\n",
    "    pass\n",
    "sims = []\n",
    "file_idx = 1\n",
    "while(True):\n",
    "    fname = f'coupler{file_idx:03d}.h5'\n",
    "    try:\n",
    "        with h5py.File(fname, 'r') as hf:\n",
    "            sim = Sim()\n",
    "            sim.attrs = { key:hf['simulation'].attrs[key] for key in hf['simulation'].attrs.keys() }\n",
    "            sim.data = { key:hf['simulation'][key][:].squeeze() for key in hf['simulation'].keys() }\n",
    "            sims.append(sim)\n",
    "\n",
    "                \n",
    "    except:\n",
    "        break\n",
    "    file_idx += 1"
   ]
  },
  {
   "cell_type": "code",
   "execution_count": 24,
   "metadata": {},
   "outputs": [],
   "source": [
    "# find max E and H field magnitudes\n",
    "maxE = 0; maxH = 0\n",
    "for sim in sims:\n",
    "    maxE = max(maxE, np.max(np.abs(sim.data['Ex'])))\n",
    "    maxE = max(maxE, np.max(np.abs(sim.data['Ey'])))\n",
    "    maxE = max(maxE, np.max(np.abs(sim.data['Ez'])))\n",
    "    maxH = max(maxH, np.max(np.abs(sim.data['Hx'])))\n",
    "    maxH = max(maxH, np.max(np.abs(sim.data['Hy'])))\n",
    "    maxH = max(maxH, np.max(np.abs(sim.data['Hz'])))\n"
   ]
  },
  {
   "cell_type": "code",
   "execution_count": 26,
   "metadata": {
    "scrolled": false
   },
   "outputs": [
    {
     "data": {
      "application/vnd.jupyter.widget-view+json": {
       "model_id": "0e070087f7904d1aa4e8c010c8c9570a",
       "version_major": 2,
       "version_minor": 0
      },
      "text/plain": [
       "interactive(children=(IntSlider(value=15, description='file_idx', max=30), Dropdown(description='which', optio…"
      ]
     },
     "metadata": {},
     "output_type": "display_data"
    }
   ],
   "source": [
    "@interact\n",
    "def plot_func(file_idx=(0,len(sims)-1), which=sims[0].data.keys(), \n",
    "              component=['real', 'imag', 'mag'],\n",
    "              normalize=True,\n",
    "              mirror=True, grid=True):\n",
    "        matplotlib.rcParams['figure.figsize'] = [20,5]\n",
    "        data = sims[file_idx].data[which]\n",
    "        if which=='eps':\n",
    "            cmap = 'Blues'\n",
    "            norm = None\n",
    "        else:\n",
    "            # field (e.g. Ex)\n",
    "            cmap = 'seismic'\n",
    "            if normalize:\n",
    "                if which in ('Ex', 'Ey', 'Ez'):\n",
    "                    dmax = maxE\n",
    "                elif which in ('Hx', 'Hy', 'Hz'):\n",
    "                    dmax = maxH\n",
    "            else:\n",
    "                dmax = np.max(np.abs(data))\n",
    "            norm = matplotlib.colors.Normalize(-dmax, dmax)\n",
    "\n",
    "        attrs = sims[file_idx].attrs\n",
    "        dx,dy,dz = attrs['dx'], attrs['dy'], attrs['dz']\n",
    "        X,Y,Z = attrs['X'], attrs['Y'], attrs['Z']\n",
    "        if mirror:\n",
    "            if which in ('Ex', 'Ez', 'Hy'):\n",
    "                flip = -1\n",
    "            else:\n",
    "                flip = 1\n",
    "            data = np.vstack((flip*data[-1:0:-1,:], data))\n",
    "            extent = [-dx/2, X+dx/2, Y+dy/2, -Y-dy/2]\n",
    "        else:\n",
    "            extent = [-dx/2, X+dx/2, Y+dy/2, -dy/2]\n",
    "                \n",
    "        #plt.clf()\n",
    "        if component=='real': data = data.real\n",
    "        elif component=='imag': data=data.imag\n",
    "        elif component=='mag': data=np.abs(data)\n",
    "                \n",
    "        plt.imshow(data, interpolation='none', cmap=cmap, extent=extent, norm=norm)\n",
    "        if grid:\n",
    "            plt.grid()\n",
    "        plt.gca().set_aspect('equal')\n",
    "        plt.colorbar()\n",
    "        plt.title(which)\n",
    "        plt.xlabel('x [microns]')\n",
    "        plt.ylabel('y [microns]')\n"
   ]
  },
  {
   "cell_type": "code",
   "execution_count": null,
   "metadata": {},
   "outputs": [],
   "source": []
  }
 ],
 "metadata": {
  "kernelspec": {
   "display_name": "Python 3",
   "language": "python",
   "name": "python3"
  },
  "language_info": {
   "codemirror_mode": {
    "name": "ipython",
    "version": 3
   },
   "file_extension": ".py",
   "mimetype": "text/x-python",
   "name": "python",
   "nbconvert_exporter": "python",
   "pygments_lexer": "ipython3",
   "version": "3.6.8"
  }
 },
 "nbformat": 4,
 "nbformat_minor": 2
}
