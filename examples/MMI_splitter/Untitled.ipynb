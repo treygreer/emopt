{
 "cells": [
  {
   "cell_type": "code",
   "execution_count": 36,
   "id": "31e04580",
   "metadata": {},
   "outputs": [],
   "source": [
    "num_cells = 283*101*126\n",
    "complex_bytes = 16\n",
    "real_bytes = 8\n",
    "titanV_dram_bw = 850e6*2*3072/8  # Bytes/sec\n",
    "material_bytes_per_cell = 3*real_bytes \n",
    "read_bytes_per_cell_field = 15 * real_bytes + material_bytes_per_cell\n",
    "write_bytes_per_cell_field = 3 * real_bytes\n",
    "access_bytes_per_cell_field = read_bytes_per_cell_field + write_bytes_per_cell_field\n",
    "access_bytes_per_cell = 2*access_bytes_per_cell_field\n",
    "access_bytes_per_step = num_cells * access_bytes_per_cell\n",
    "bw = access_bytes_per_step / 2150e-6\n"
   ]
  },
  {
   "cell_type": "code",
   "execution_count": 37,
   "id": "9678869d",
   "metadata": {},
   "outputs": [
    {
     "data": {
      "text/plain": [
       "86.2182147742818"
      ]
     },
     "execution_count": 37,
     "metadata": {},
     "output_type": "execute_result"
    }
   ],
   "source": [
    "bw / titanV_dram_bw * 100"
   ]
  },
  {
   "cell_type": "code",
   "execution_count": 38,
   "id": "929024d8",
   "metadata": {},
   "outputs": [
    {
     "data": {
      "text/plain": [
       "336"
      ]
     },
     "execution_count": 38,
     "metadata": {},
     "output_type": "execute_result"
    }
   ],
   "source": [
    "access_bytes_per_cell"
   ]
  },
  {
   "cell_type": "code",
   "execution_count": null,
   "id": "46e4dd90",
   "metadata": {},
   "outputs": [],
   "source": []
  }
 ],
 "metadata": {
  "kernelspec": {
   "display_name": "Python 3 (ipykernel)",
   "language": "python",
   "name": "python3"
  },
  "language_info": {
   "codemirror_mode": {
    "name": "ipython",
    "version": 3
   },
   "file_extension": ".py",
   "mimetype": "text/x-python",
   "name": "python",
   "nbconvert_exporter": "python",
   "pygments_lexer": "ipython3",
   "version": "3.10.4"
  }
 },
 "nbformat": 4,
 "nbformat_minor": 5
}
